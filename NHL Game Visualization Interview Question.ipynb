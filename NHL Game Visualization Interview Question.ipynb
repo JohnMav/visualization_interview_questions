{
 "cells": [
  {
   "cell_type": "code",
   "execution_count": 6,
   "metadata": {},
   "outputs": [],
   "source": [
    "import urllib.request, json\n",
    "\n",
    "url = \"https://statsapi.web.nhl.com/api/v1/game/2017020001/feed/live?site=en_nhl\"\n",
    "with urllib.request.urlopen(url) as result:\n",
    "    data = json.loads(result.read().decode())"
   ]
  },
  {
   "cell_type": "code",
   "execution_count": 11,
   "metadata": {},
   "outputs": [],
   "source": [
    "# Uncomment below to print RAW JSON Object\n",
    "# print(json.dumps(data, indent=4, sort_keys=True)) "
   ]
  },
  {
   "cell_type": "markdown",
   "metadata": {},
   "source": [
    "# NHL Game Data\n",
    "\n",
    "The data you see above is data from a single NHL game between the Toronto Maple Leafs and the Winnipeg Jets. If you are unfamiliar with the sport of Ice Hockey, it's simply a 60 minute game spread over three 20 minute periods. In each period teams compete to score goals against one another by skating around an ice rink and taking shots at a net which is defended by a goal tender. We would like to provide our coaching staff with some visualizations about the shots on net taken during the game. \n",
    "\n",
    "## Question 1: Describe how you would begin understanding the structure of this data. What tools would you use? Feel free to use the space below to use any code."
   ]
  },
  {
   "cell_type": "code",
   "execution_count": null,
   "metadata": {
    "collapsed": true
   },
   "outputs": [],
   "source": []
  },
  {
   "cell_type": "markdown",
   "metadata": {},
   "source": [
    "## Question 2: Describe what kind of visualization you think would be valuable to the coaching staff. What would this visualization help show them? "
   ]
  },
  {
   "cell_type": "code",
   "execution_count": null,
   "metadata": {
    "collapsed": true
   },
   "outputs": [],
   "source": []
  },
  {
   "cell_type": "markdown",
   "metadata": {},
   "source": [
    "## Question 3: Using any set of tools you wish manipulate the data and create a simple graphic for visualizing shots.  \n",
    " \n",
    "_Tip: Shots can be found by iterating through data['liveData']['plays']['allPlays'] and looking for elements with `result.eventTypeId == 'SHOT'`_"
   ]
  },
  {
   "cell_type": "code",
   "execution_count": null,
   "metadata": {
    "collapsed": true
   },
   "outputs": [],
   "source": []
  },
  {
   "cell_type": "markdown",
   "metadata": {},
   "source": [
    "## Question 4: Given more time what other information from this game do you think would be worth visualizing? What other kinds of visualizations would help summarize the game or players?"
   ]
  },
  {
   "cell_type": "code",
   "execution_count": null,
   "metadata": {
    "collapsed": true
   },
   "outputs": [],
   "source": []
  }
 ],
 "metadata": {
  "kernelspec": {
   "display_name": "Python 3",
   "language": "python",
   "name": "python3"
  },
  "language_info": {
   "codemirror_mode": {
    "name": "ipython",
    "version": 3
   },
   "file_extension": ".py",
   "mimetype": "text/x-python",
   "name": "python",
   "nbconvert_exporter": "python",
   "pygments_lexer": "ipython3",
   "version": "3.6.1"
  }
 },
 "nbformat": 4,
 "nbformat_minor": 2
}
